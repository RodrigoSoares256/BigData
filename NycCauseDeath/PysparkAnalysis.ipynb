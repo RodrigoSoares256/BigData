{
 "cells": [
  {
   "cell_type": "markdown",
   "metadata": {},
   "source": [
    "The objective in this project is to answer a couple of different questions using Pyspark for it\n",
    "Given the size of the Dataset and the questions it could be easily done using python's pandas library alone, however as our objective here is to also develop a solution that could be used with a huge Dataset the use of Bigdata Frameworks such as Spark, DASK and others appears as an obvious solution"
   ]
  },
  {
   "cell_type": "markdown",
   "metadata": {},
   "source": [
    "1. Number of deaths per year\n",
    "2. Number of deaths grouped by sex\n",
    "3. Number of deaths grouped by cause of death\n",
    "4. Number of deaths grouped by cause of deaths and sex\n",
    "5. Main cause of deaths for each one of the ethnic group in the Dataset\n",
    "6. Sex distribution of the Dataset"
   ]
  },
  {
   "cell_type": "code",
   "execution_count": 1,
   "metadata": {},
   "outputs": [],
   "source": [
    "import findspark\n",
    "findspark.init()"
   ]
  },
  {
   "cell_type": "code",
   "execution_count": 2,
   "metadata": {},
   "outputs": [],
   "source": [
    "from pyspark.sql.functions import udf\n",
    "import pyspark\n",
    "from pyspark import SparkContext\n",
    "from pyspark.sql import SparkSession\n",
    "from pyspark.sql import Window\n",
    "from pyspark.sql.functions import  translate\n",
    "from pyspark.sql.types import FloatType, IntegerType\n",
    "from pyspark.sql.functions import col\n",
    "from pyspark.sql.functions import row_number\n",
    "\n",
    "import pandas as pd\n",
    "import plotly.express as px\n",
    "import plotly.io as pio\n",
    "pio.renderers\n",
    "import matplotlib.pyplot as plt\n",
    "import seaborn as sns"
   ]
  },
  {
   "cell_type": "code",
   "execution_count": 3,
   "metadata": {},
   "outputs": [
    {
     "name": "stdout",
     "output_type": "stream",
     "text": [
      "22/08/22 23:12:22 WARN Utils: Your hostname, rodrigo-Dell-G15-5511 resolves to a loopback address: 127.0.1.1; using 192.168.15.132 instead (on interface wlp0s20f3)\n",
      "22/08/22 23:12:22 WARN Utils: Set SPARK_LOCAL_IP if you need to bind to another address\n"
     ]
    },
    {
     "name": "stderr",
     "output_type": "stream",
     "text": [
      "Setting default log level to \"WARN\".\n",
      "To adjust logging level use sc.setLogLevel(newLevel). For SparkR, use setLogLevel(newLevel).\n"
     ]
    },
    {
     "name": "stdout",
     "output_type": "stream",
     "text": [
      "22/08/22 23:12:22 WARN NativeCodeLoader: Unable to load native-hadoop library for your platform... using builtin-java classes where applicable\n"
     ]
    }
   ],
   "source": [
    "sc = SparkContext(appName='Nyc Death Causes')"
   ]
  },
  {
   "cell_type": "code",
   "execution_count": 4,
   "metadata": {},
   "outputs": [
    {
     "data": {
      "text/html": [
       "\n",
       "        <div>\n",
       "            <p><b>SparkContext</b></p>\n",
       "\n",
       "            <p><a href=\"http://192.168.15.132:4040\">Spark UI</a></p>\n",
       "\n",
       "            <dl>\n",
       "              <dt>Version</dt>\n",
       "                <dd><code>v3.3.0</code></dd>\n",
       "              <dt>Master</dt>\n",
       "                <dd><code>local[*]</code></dd>\n",
       "              <dt>AppName</dt>\n",
       "                <dd><code>Nyc Death Causes</code></dd>\n",
       "            </dl>\n",
       "        </div>\n",
       "        "
      ],
      "text/plain": [
       "<SparkContext master=local[*] appName=Nyc Death Causes>"
      ]
     },
     "execution_count": 4,
     "metadata": {},
     "output_type": "execute_result"
    }
   ],
   "source": [
    "sc"
   ]
  },
  {
   "cell_type": "code",
   "execution_count": 5,
   "metadata": {},
   "outputs": [],
   "source": [
    "spark = SparkSession.builder.getOrCreate()"
   ]
  },
  {
   "cell_type": "code",
   "execution_count": 6,
   "metadata": {},
   "outputs": [],
   "source": [
    "file = '../data/New_York_City_Leading_Causes_of_Death.csv'\n",
    "nycDF = spark.read.csv(file,inferSchema=True, header=True)"
   ]
  },
  {
   "cell_type": "code",
   "execution_count": 7,
   "metadata": {},
   "outputs": [
    {
     "name": "stdout",
     "output_type": "stream",
     "text": [
      "+----+--------------------+---+--------------------+------+----------+-----------------------+\n",
      "|Year|       Leading Cause|Sex|      Race Ethnicity|Deaths|Death Rate|Age Adjusted Death Rate|\n",
      "+----+--------------------+---+--------------------+------+----------+-----------------------+\n",
      "|2009|Nephritis, Nephro...|  F|Other Race/ Ethni...|     .|         .|                      .|\n",
      "|2013|Influenza (Flu) a...|  F|            Hispanic|   204|      16.3|                   18.5|\n",
      "|2012|Assault (Homicide...|  M|Other Race/ Ethni...|     .|         .|                      .|\n",
      "|2007|Essential Hyperte...|  F|  Not Stated/Unknown|     5|         .|                      .|\n",
      "|2014|Cerebrovascular D...|  F|  White Non-Hispanic|   418|      29.5|                   15.6|\n",
      "+----+--------------------+---+--------------------+------+----------+-----------------------+\n",
      "only showing top 5 rows\n",
      "\n"
     ]
    }
   ],
   "source": [
    "nycDF.show(5)"
   ]
  },
  {
   "cell_type": "code",
   "execution_count": 8,
   "metadata": {},
   "outputs": [
    {
     "data": {
      "text/plain": [
       "[('Year', 'int'),\n",
       " ('Leading Cause', 'string'),\n",
       " ('Sex', 'string'),\n",
       " ('Race Ethnicity', 'string'),\n",
       " ('Deaths', 'string'),\n",
       " ('Death Rate', 'string'),\n",
       " ('Age Adjusted Death Rate', 'string')]"
      ]
     },
     "execution_count": 8,
     "metadata": {},
     "output_type": "execute_result"
    }
   ],
   "source": [
    "nycDF.dtypes"
   ]
  },
  {
   "cell_type": "markdown",
   "metadata": {},
   "source": [
    "On the next cell i'm gonna try to use an inputation technique that i think is gonna work for this data.\n",
    "On the data dictionary it's said that every register with under 5 deaths is supressed on the Dataset\n",
    "So i'm gonna try to input it with 2 given that it's almost in the middle"
   ]
  },
  {
   "cell_type": "code",
   "execution_count": 9,
   "metadata": {},
   "outputs": [
    {
     "name": "stdout",
     "output_type": "stream",
     "text": [
      "+----+--------------------+---+--------------------+------+----------+-----------------------+\n",
      "|Year|       Leading Cause|Sex|      Race Ethnicity|Deaths|Death Rate|Age Adjusted Death Rate|\n",
      "+----+--------------------+---+--------------------+------+----------+-----------------------+\n",
      "|2009|Nephritis, Nephro...|  F|Other Race/ Ethni...|     2|         .|                      .|\n",
      "|2013|Influenza (Flu) a...|  F|            Hispanic|   204|      16.3|                   18.5|\n",
      "|2012|Assault (Homicide...|  M|Other Race/ Ethni...|     2|         .|                      .|\n",
      "|2007|Essential Hyperte...|  F|  Not Stated/Unknown|     5|         .|                      .|\n",
      "|2014|Cerebrovascular D...|  F|  White Non-Hispanic|   418|      29.5|                   15.6|\n",
      "+----+--------------------+---+--------------------+------+----------+-----------------------+\n",
      "only showing top 5 rows\n",
      "\n"
     ]
    }
   ],
   "source": [
    "nycDF = nycDF.withColumn('Deaths', translate('Deaths', \". \", \"2\"))\n",
    "nycDF = nycDF.withColumn('Deaths', nycDF.Deaths.cast(IntegerType()))\n",
    "nycDF.show(5)"
   ]
  },
  {
   "cell_type": "code",
   "execution_count": 10,
   "metadata": {},
   "outputs": [],
   "source": [
    "nycDF = nycDF.replace(['Female','Male'],['F','M'])\n",
    "nycDF = nycDF.replace(['Non-Hispanic White','Non-Hispanic Black'],['White Non-Hispanic','Black Non-Hispanic'])"
   ]
  },
  {
   "cell_type": "markdown",
   "metadata": {},
   "source": [
    "The number of samples in the dataset per sex"
   ]
  },
  {
   "cell_type": "code",
   "execution_count": 11,
   "metadata": {},
   "outputs": [
    {
     "name": "stdout",
     "output_type": "stream",
     "text": [
      "+---+-----+\n",
      "|Sex|count|\n",
      "+---+-----+\n",
      "|  F|  644|\n",
      "|  M|  628|\n",
      "+---+-----+\n",
      "\n"
     ]
    }
   ],
   "source": [
    "nycDF.groupBy(\"Sex\").count().show()"
   ]
  },
  {
   "cell_type": "markdown",
   "metadata": {},
   "source": [
    "Number of deaths per sex"
   ]
  },
  {
   "cell_type": "code",
   "execution_count": 12,
   "metadata": {},
   "outputs": [
    {
     "name": "stdout",
     "output_type": "stream",
     "text": [
      "+---+-----------+\n",
      "|Sex|sum(Deaths)|\n",
      "+---+-----------+\n",
      "|  F|     244139|\n",
      "|  M|     235694|\n",
      "+---+-----------+\n",
      "\n"
     ]
    }
   ],
   "source": [
    "nycDF.groupBy('Sex').sum('Deaths').show()"
   ]
  },
  {
   "cell_type": "code",
   "execution_count": 13,
   "metadata": {},
   "outputs": [],
   "source": [
    "def configure_plotly_browser_state():\n",
    "  \n",
    "  import IPython\n",
    "  \n",
    "  display(IPython.core.display.HTML('''\n",
    "        <script src=\"/static/components/requirejs/require.js\"></script>\n",
    "        <script>\n",
    "          requirejs.config({\n",
    "            paths: {\n",
    "              base: '/static/base',\n",
    "              plotly: 'https://cdn.plot.ly/plotly-1.43.1.min.js?noext',\n",
    "            },\n",
    "          });\n",
    "        </script>\n",
    "        '''))"
   ]
  },
  {
   "cell_type": "code",
   "execution_count": 14,
   "metadata": {},
   "outputs": [
    {
     "data": {
      "text/html": [
       "\n",
       "        <script src=\"/static/components/requirejs/require.js\"></script>\n",
       "        <script>\n",
       "          requirejs.config({\n",
       "            paths: {\n",
       "              base: '/static/base',\n",
       "              plotly: 'https://cdn.plot.ly/plotly-1.43.1.min.js?noext',\n",
       "            },\n",
       "          });\n",
       "        </script>\n",
       "        "
      ],
      "text/plain": [
       "<IPython.core.display.HTML object>"
      ]
     },
     "metadata": {},
     "output_type": "display_data"
    },
    {
     "data": {
      "application/vnd.plotly.v1+json": {
       "config": {
        "plotlyServerURL": "https://plot.ly"
       },
       "data": [
        {
         "alignmentgroup": "True",
         "hovertemplate": "Sex=%{x}<br>Num of Deaths=%{y}<extra></extra>",
         "legendgroup": "",
         "marker": {
          "color": "#636efa",
          "pattern": {
           "shape": ""
          }
         },
         "name": "",
         "offsetgroup": "",
         "orientation": "v",
         "showlegend": false,
         "textposition": "auto",
         "type": "bar",
         "x": [
          "F",
          "M"
         ],
         "xaxis": "x",
         "y": [
          244139,
          235694
         ],
         "yaxis": "y"
        }
       ],
       "layout": {
        "barmode": "relative",
        "height": 400,
        "legend": {
         "tracegroupgap": 0
        },
        "template": {
         "data": {
          "bar": [
           {
            "error_x": {
             "color": "#2a3f5f"
            },
            "error_y": {
             "color": "#2a3f5f"
            },
            "marker": {
             "line": {
              "color": "#E5ECF6",
              "width": 0.5
             },
             "pattern": {
              "fillmode": "overlay",
              "size": 10,
              "solidity": 0.2
             }
            },
            "type": "bar"
           }
          ],
          "barpolar": [
           {
            "marker": {
             "line": {
              "color": "#E5ECF6",
              "width": 0.5
             },
             "pattern": {
              "fillmode": "overlay",
              "size": 10,
              "solidity": 0.2
             }
            },
            "type": "barpolar"
           }
          ],
          "carpet": [
           {
            "aaxis": {
             "endlinecolor": "#2a3f5f",
             "gridcolor": "white",
             "linecolor": "white",
             "minorgridcolor": "white",
             "startlinecolor": "#2a3f5f"
            },
            "baxis": {
             "endlinecolor": "#2a3f5f",
             "gridcolor": "white",
             "linecolor": "white",
             "minorgridcolor": "white",
             "startlinecolor": "#2a3f5f"
            },
            "type": "carpet"
           }
          ],
          "choropleth": [
           {
            "colorbar": {
             "outlinewidth": 0,
             "ticks": ""
            },
            "type": "choropleth"
           }
          ],
          "contour": [
           {
            "colorbar": {
             "outlinewidth": 0,
             "ticks": ""
            },
            "colorscale": [
             [
              0,
              "#0d0887"
             ],
             [
              0.1111111111111111,
              "#46039f"
             ],
             [
              0.2222222222222222,
              "#7201a8"
             ],
             [
              0.3333333333333333,
              "#9c179e"
             ],
             [
              0.4444444444444444,
              "#bd3786"
             ],
             [
              0.5555555555555556,
              "#d8576b"
             ],
             [
              0.6666666666666666,
              "#ed7953"
             ],
             [
              0.7777777777777778,
              "#fb9f3a"
             ],
             [
              0.8888888888888888,
              "#fdca26"
             ],
             [
              1,
              "#f0f921"
             ]
            ],
            "type": "contour"
           }
          ],
          "contourcarpet": [
           {
            "colorbar": {
             "outlinewidth": 0,
             "ticks": ""
            },
            "type": "contourcarpet"
           }
          ],
          "heatmap": [
           {
            "colorbar": {
             "outlinewidth": 0,
             "ticks": ""
            },
            "colorscale": [
             [
              0,
              "#0d0887"
             ],
             [
              0.1111111111111111,
              "#46039f"
             ],
             [
              0.2222222222222222,
              "#7201a8"
             ],
             [
              0.3333333333333333,
              "#9c179e"
             ],
             [
              0.4444444444444444,
              "#bd3786"
             ],
             [
              0.5555555555555556,
              "#d8576b"
             ],
             [
              0.6666666666666666,
              "#ed7953"
             ],
             [
              0.7777777777777778,
              "#fb9f3a"
             ],
             [
              0.8888888888888888,
              "#fdca26"
             ],
             [
              1,
              "#f0f921"
             ]
            ],
            "type": "heatmap"
           }
          ],
          "heatmapgl": [
           {
            "colorbar": {
             "outlinewidth": 0,
             "ticks": ""
            },
            "colorscale": [
             [
              0,
              "#0d0887"
             ],
             [
              0.1111111111111111,
              "#46039f"
             ],
             [
              0.2222222222222222,
              "#7201a8"
             ],
             [
              0.3333333333333333,
              "#9c179e"
             ],
             [
              0.4444444444444444,
              "#bd3786"
             ],
             [
              0.5555555555555556,
              "#d8576b"
             ],
             [
              0.6666666666666666,
              "#ed7953"
             ],
             [
              0.7777777777777778,
              "#fb9f3a"
             ],
             [
              0.8888888888888888,
              "#fdca26"
             ],
             [
              1,
              "#f0f921"
             ]
            ],
            "type": "heatmapgl"
           }
          ],
          "histogram": [
           {
            "marker": {
             "pattern": {
              "fillmode": "overlay",
              "size": 10,
              "solidity": 0.2
             }
            },
            "type": "histogram"
           }
          ],
          "histogram2d": [
           {
            "colorbar": {
             "outlinewidth": 0,
             "ticks": ""
            },
            "colorscale": [
             [
              0,
              "#0d0887"
             ],
             [
              0.1111111111111111,
              "#46039f"
             ],
             [
              0.2222222222222222,
              "#7201a8"
             ],
             [
              0.3333333333333333,
              "#9c179e"
             ],
             [
              0.4444444444444444,
              "#bd3786"
             ],
             [
              0.5555555555555556,
              "#d8576b"
             ],
             [
              0.6666666666666666,
              "#ed7953"
             ],
             [
              0.7777777777777778,
              "#fb9f3a"
             ],
             [
              0.8888888888888888,
              "#fdca26"
             ],
             [
              1,
              "#f0f921"
             ]
            ],
            "type": "histogram2d"
           }
          ],
          "histogram2dcontour": [
           {
            "colorbar": {
             "outlinewidth": 0,
             "ticks": ""
            },
            "colorscale": [
             [
              0,
              "#0d0887"
             ],
             [
              0.1111111111111111,
              "#46039f"
             ],
             [
              0.2222222222222222,
              "#7201a8"
             ],
             [
              0.3333333333333333,
              "#9c179e"
             ],
             [
              0.4444444444444444,
              "#bd3786"
             ],
             [
              0.5555555555555556,
              "#d8576b"
             ],
             [
              0.6666666666666666,
              "#ed7953"
             ],
             [
              0.7777777777777778,
              "#fb9f3a"
             ],
             [
              0.8888888888888888,
              "#fdca26"
             ],
             [
              1,
              "#f0f921"
             ]
            ],
            "type": "histogram2dcontour"
           }
          ],
          "mesh3d": [
           {
            "colorbar": {
             "outlinewidth": 0,
             "ticks": ""
            },
            "type": "mesh3d"
           }
          ],
          "parcoords": [
           {
            "line": {
             "colorbar": {
              "outlinewidth": 0,
              "ticks": ""
             }
            },
            "type": "parcoords"
           }
          ],
          "pie": [
           {
            "automargin": true,
            "type": "pie"
           }
          ],
          "scatter": [
           {
            "marker": {
             "colorbar": {
              "outlinewidth": 0,
              "ticks": ""
             }
            },
            "type": "scatter"
           }
          ],
          "scatter3d": [
           {
            "line": {
             "colorbar": {
              "outlinewidth": 0,
              "ticks": ""
             }
            },
            "marker": {
             "colorbar": {
              "outlinewidth": 0,
              "ticks": ""
             }
            },
            "type": "scatter3d"
           }
          ],
          "scattercarpet": [
           {
            "marker": {
             "colorbar": {
              "outlinewidth": 0,
              "ticks": ""
             }
            },
            "type": "scattercarpet"
           }
          ],
          "scattergeo": [
           {
            "marker": {
             "colorbar": {
              "outlinewidth": 0,
              "ticks": ""
             }
            },
            "type": "scattergeo"
           }
          ],
          "scattergl": [
           {
            "marker": {
             "colorbar": {
              "outlinewidth": 0,
              "ticks": ""
             }
            },
            "type": "scattergl"
           }
          ],
          "scattermapbox": [
           {
            "marker": {
             "colorbar": {
              "outlinewidth": 0,
              "ticks": ""
             }
            },
            "type": "scattermapbox"
           }
          ],
          "scatterpolar": [
           {
            "marker": {
             "colorbar": {
              "outlinewidth": 0,
              "ticks": ""
             }
            },
            "type": "scatterpolar"
           }
          ],
          "scatterpolargl": [
           {
            "marker": {
             "colorbar": {
              "outlinewidth": 0,
              "ticks": ""
             }
            },
            "type": "scatterpolargl"
           }
          ],
          "scatterternary": [
           {
            "marker": {
             "colorbar": {
              "outlinewidth": 0,
              "ticks": ""
             }
            },
            "type": "scatterternary"
           }
          ],
          "surface": [
           {
            "colorbar": {
             "outlinewidth": 0,
             "ticks": ""
            },
            "colorscale": [
             [
              0,
              "#0d0887"
             ],
             [
              0.1111111111111111,
              "#46039f"
             ],
             [
              0.2222222222222222,
              "#7201a8"
             ],
             [
              0.3333333333333333,
              "#9c179e"
             ],
             [
              0.4444444444444444,
              "#bd3786"
             ],
             [
              0.5555555555555556,
              "#d8576b"
             ],
             [
              0.6666666666666666,
              "#ed7953"
             ],
             [
              0.7777777777777778,
              "#fb9f3a"
             ],
             [
              0.8888888888888888,
              "#fdca26"
             ],
             [
              1,
              "#f0f921"
             ]
            ],
            "type": "surface"
           }
          ],
          "table": [
           {
            "cells": {
             "fill": {
              "color": "#EBF0F8"
             },
             "line": {
              "color": "white"
             }
            },
            "header": {
             "fill": {
              "color": "#C8D4E3"
             },
             "line": {
              "color": "white"
             }
            },
            "type": "table"
           }
          ]
         },
         "layout": {
          "annotationdefaults": {
           "arrowcolor": "#2a3f5f",
           "arrowhead": 0,
           "arrowwidth": 1
          },
          "autotypenumbers": "strict",
          "coloraxis": {
           "colorbar": {
            "outlinewidth": 0,
            "ticks": ""
           }
          },
          "colorscale": {
           "diverging": [
            [
             0,
             "#8e0152"
            ],
            [
             0.1,
             "#c51b7d"
            ],
            [
             0.2,
             "#de77ae"
            ],
            [
             0.3,
             "#f1b6da"
            ],
            [
             0.4,
             "#fde0ef"
            ],
            [
             0.5,
             "#f7f7f7"
            ],
            [
             0.6,
             "#e6f5d0"
            ],
            [
             0.7,
             "#b8e186"
            ],
            [
             0.8,
             "#7fbc41"
            ],
            [
             0.9,
             "#4d9221"
            ],
            [
             1,
             "#276419"
            ]
           ],
           "sequential": [
            [
             0,
             "#0d0887"
            ],
            [
             0.1111111111111111,
             "#46039f"
            ],
            [
             0.2222222222222222,
             "#7201a8"
            ],
            [
             0.3333333333333333,
             "#9c179e"
            ],
            [
             0.4444444444444444,
             "#bd3786"
            ],
            [
             0.5555555555555556,
             "#d8576b"
            ],
            [
             0.6666666666666666,
             "#ed7953"
            ],
            [
             0.7777777777777778,
             "#fb9f3a"
            ],
            [
             0.8888888888888888,
             "#fdca26"
            ],
            [
             1,
             "#f0f921"
            ]
           ],
           "sequentialminus": [
            [
             0,
             "#0d0887"
            ],
            [
             0.1111111111111111,
             "#46039f"
            ],
            [
             0.2222222222222222,
             "#7201a8"
            ],
            [
             0.3333333333333333,
             "#9c179e"
            ],
            [
             0.4444444444444444,
             "#bd3786"
            ],
            [
             0.5555555555555556,
             "#d8576b"
            ],
            [
             0.6666666666666666,
             "#ed7953"
            ],
            [
             0.7777777777777778,
             "#fb9f3a"
            ],
            [
             0.8888888888888888,
             "#fdca26"
            ],
            [
             1,
             "#f0f921"
            ]
           ]
          },
          "colorway": [
           "#636efa",
           "#EF553B",
           "#00cc96",
           "#ab63fa",
           "#FFA15A",
           "#19d3f3",
           "#FF6692",
           "#B6E880",
           "#FF97FF",
           "#FECB52"
          ],
          "font": {
           "color": "#2a3f5f"
          },
          "geo": {
           "bgcolor": "white",
           "lakecolor": "white",
           "landcolor": "#E5ECF6",
           "showlakes": true,
           "showland": true,
           "subunitcolor": "white"
          },
          "hoverlabel": {
           "align": "left"
          },
          "hovermode": "closest",
          "mapbox": {
           "style": "light"
          },
          "paper_bgcolor": "white",
          "plot_bgcolor": "#E5ECF6",
          "polar": {
           "angularaxis": {
            "gridcolor": "white",
            "linecolor": "white",
            "ticks": ""
           },
           "bgcolor": "#E5ECF6",
           "radialaxis": {
            "gridcolor": "white",
            "linecolor": "white",
            "ticks": ""
           }
          },
          "scene": {
           "xaxis": {
            "backgroundcolor": "#E5ECF6",
            "gridcolor": "white",
            "gridwidth": 2,
            "linecolor": "white",
            "showbackground": true,
            "ticks": "",
            "zerolinecolor": "white"
           },
           "yaxis": {
            "backgroundcolor": "#E5ECF6",
            "gridcolor": "white",
            "gridwidth": 2,
            "linecolor": "white",
            "showbackground": true,
            "ticks": "",
            "zerolinecolor": "white"
           },
           "zaxis": {
            "backgroundcolor": "#E5ECF6",
            "gridcolor": "white",
            "gridwidth": 2,
            "linecolor": "white",
            "showbackground": true,
            "ticks": "",
            "zerolinecolor": "white"
           }
          },
          "shapedefaults": {
           "line": {
            "color": "#2a3f5f"
           }
          },
          "ternary": {
           "aaxis": {
            "gridcolor": "white",
            "linecolor": "white",
            "ticks": ""
           },
           "baxis": {
            "gridcolor": "white",
            "linecolor": "white",
            "ticks": ""
           },
           "bgcolor": "#E5ECF6",
           "caxis": {
            "gridcolor": "white",
            "linecolor": "white",
            "ticks": ""
           }
          },
          "title": {
           "x": 0.05
          },
          "xaxis": {
           "automargin": true,
           "gridcolor": "white",
           "linecolor": "white",
           "ticks": "",
           "title": {
            "standoff": 15
           },
           "zerolinecolor": "white",
           "zerolinewidth": 2
          },
          "yaxis": {
           "automargin": true,
           "gridcolor": "white",
           "linecolor": "white",
           "ticks": "",
           "title": {
            "standoff": 15
           },
           "zerolinecolor": "white",
           "zerolinewidth": 2
          }
         }
        },
        "title": {
         "text": "Number of deaths per sex"
        },
        "width": 600,
        "xaxis": {
         "anchor": "y",
         "domain": [
          0,
          1
         ],
         "title": {
          "text": "Sex"
         }
        },
        "yaxis": {
         "anchor": "x",
         "domain": [
          0,
          1
         ],
         "title": {
          "text": "Num of Deaths"
         }
        }
       }
      }
     },
     "metadata": {},
     "output_type": "display_data"
    }
   ],
   "source": [
    "dfNumDeaths = nycDF.groupBy('Sex').sum('Deaths').toPandas()\n",
    "configure_plotly_browser_state()\n",
    "px.bar(data_frame=dfNumDeaths, x = 'Sex', y = 'sum(Deaths)', title = \"Number of deaths per sex\",labels = {\"sum(Deaths)\":\"Num of Deaths\"}, width=600, height = 400)"
   ]
  },
  {
   "cell_type": "markdown",
   "metadata": {},
   "source": [
    "The number of deaths per year"
   ]
  },
  {
   "cell_type": "code",
   "execution_count": 15,
   "metadata": {},
   "outputs": [
    {
     "name": "stdout",
     "output_type": "stream",
     "text": [
      "+----+-----------+\n",
      "|Year|sum(Deaths)|\n",
      "+----+-----------+\n",
      "|2007|      54048|\n",
      "|2008|      54176|\n",
      "|2009|      52864|\n",
      "|2010|      52549|\n",
      "|2011|      52774|\n",
      "|2012|      52444|\n",
      "|2013|      53399|\n",
      "|2014|      53020|\n",
      "|2019|      54559|\n",
      "+----+-----------+\n",
      "\n"
     ]
    }
   ],
   "source": [
    "nycDF.groupBy('Year').agg({'Deaths':'sum'}).sort(\"Year\").show()"
   ]
  },
  {
   "cell_type": "code",
   "execution_count": 16,
   "metadata": {},
   "outputs": [
    {
     "data": {
      "text/html": [
       "\n",
       "        <script src=\"/static/components/requirejs/require.js\"></script>\n",
       "        <script>\n",
       "          requirejs.config({\n",
       "            paths: {\n",
       "              base: '/static/base',\n",
       "              plotly: 'https://cdn.plot.ly/plotly-1.43.1.min.js?noext',\n",
       "            },\n",
       "          });\n",
       "        </script>\n",
       "        "
      ],
      "text/plain": [
       "<IPython.core.display.HTML object>"
      ]
     },
     "metadata": {},
     "output_type": "display_data"
    },
    {
     "data": {
      "application/vnd.plotly.v1+json": {
       "config": {
        "plotlyServerURL": "https://plot.ly"
       },
       "data": [
        {
         "alignmentgroup": "True",
         "hovertemplate": "Year=%{x}<br>Num of Deaths=%{y}<extra></extra>",
         "legendgroup": "",
         "marker": {
          "color": "#636efa",
          "pattern": {
           "shape": ""
          }
         },
         "name": "",
         "offsetgroup": "",
         "orientation": "v",
         "showlegend": false,
         "textposition": "auto",
         "type": "bar",
         "x": [
          2007,
          2008,
          2009,
          2010,
          2011,
          2012,
          2013,
          2014,
          2019
         ],
         "xaxis": "x",
         "y": [
          54048,
          54176,
          52864,
          52549,
          52774,
          52444,
          53399,
          53020,
          54559
         ],
         "yaxis": "y"
        }
       ],
       "layout": {
        "barmode": "relative",
        "legend": {
         "tracegroupgap": 0
        },
        "template": {
         "data": {
          "bar": [
           {
            "error_x": {
             "color": "#2a3f5f"
            },
            "error_y": {
             "color": "#2a3f5f"
            },
            "marker": {
             "line": {
              "color": "#E5ECF6",
              "width": 0.5
             },
             "pattern": {
              "fillmode": "overlay",
              "size": 10,
              "solidity": 0.2
             }
            },
            "type": "bar"
           }
          ],
          "barpolar": [
           {
            "marker": {
             "line": {
              "color": "#E5ECF6",
              "width": 0.5
             },
             "pattern": {
              "fillmode": "overlay",
              "size": 10,
              "solidity": 0.2
             }
            },
            "type": "barpolar"
           }
          ],
          "carpet": [
           {
            "aaxis": {
             "endlinecolor": "#2a3f5f",
             "gridcolor": "white",
             "linecolor": "white",
             "minorgridcolor": "white",
             "startlinecolor": "#2a3f5f"
            },
            "baxis": {
             "endlinecolor": "#2a3f5f",
             "gridcolor": "white",
             "linecolor": "white",
             "minorgridcolor": "white",
             "startlinecolor": "#2a3f5f"
            },
            "type": "carpet"
           }
          ],
          "choropleth": [
           {
            "colorbar": {
             "outlinewidth": 0,
             "ticks": ""
            },
            "type": "choropleth"
           }
          ],
          "contour": [
           {
            "colorbar": {
             "outlinewidth": 0,
             "ticks": ""
            },
            "colorscale": [
             [
              0,
              "#0d0887"
             ],
             [
              0.1111111111111111,
              "#46039f"
             ],
             [
              0.2222222222222222,
              "#7201a8"
             ],
             [
              0.3333333333333333,
              "#9c179e"
             ],
             [
              0.4444444444444444,
              "#bd3786"
             ],
             [
              0.5555555555555556,
              "#d8576b"
             ],
             [
              0.6666666666666666,
              "#ed7953"
             ],
             [
              0.7777777777777778,
              "#fb9f3a"
             ],
             [
              0.8888888888888888,
              "#fdca26"
             ],
             [
              1,
              "#f0f921"
             ]
            ],
            "type": "contour"
           }
          ],
          "contourcarpet": [
           {
            "colorbar": {
             "outlinewidth": 0,
             "ticks": ""
            },
            "type": "contourcarpet"
           }
          ],
          "heatmap": [
           {
            "colorbar": {
             "outlinewidth": 0,
             "ticks": ""
            },
            "colorscale": [
             [
              0,
              "#0d0887"
             ],
             [
              0.1111111111111111,
              "#46039f"
             ],
             [
              0.2222222222222222,
              "#7201a8"
             ],
             [
              0.3333333333333333,
              "#9c179e"
             ],
             [
              0.4444444444444444,
              "#bd3786"
             ],
             [
              0.5555555555555556,
              "#d8576b"
             ],
             [
              0.6666666666666666,
              "#ed7953"
             ],
             [
              0.7777777777777778,
              "#fb9f3a"
             ],
             [
              0.8888888888888888,
              "#fdca26"
             ],
             [
              1,
              "#f0f921"
             ]
            ],
            "type": "heatmap"
           }
          ],
          "heatmapgl": [
           {
            "colorbar": {
             "outlinewidth": 0,
             "ticks": ""
            },
            "colorscale": [
             [
              0,
              "#0d0887"
             ],
             [
              0.1111111111111111,
              "#46039f"
             ],
             [
              0.2222222222222222,
              "#7201a8"
             ],
             [
              0.3333333333333333,
              "#9c179e"
             ],
             [
              0.4444444444444444,
              "#bd3786"
             ],
             [
              0.5555555555555556,
              "#d8576b"
             ],
             [
              0.6666666666666666,
              "#ed7953"
             ],
             [
              0.7777777777777778,
              "#fb9f3a"
             ],
             [
              0.8888888888888888,
              "#fdca26"
             ],
             [
              1,
              "#f0f921"
             ]
            ],
            "type": "heatmapgl"
           }
          ],
          "histogram": [
           {
            "marker": {
             "pattern": {
              "fillmode": "overlay",
              "size": 10,
              "solidity": 0.2
             }
            },
            "type": "histogram"
           }
          ],
          "histogram2d": [
           {
            "colorbar": {
             "outlinewidth": 0,
             "ticks": ""
            },
            "colorscale": [
             [
              0,
              "#0d0887"
             ],
             [
              0.1111111111111111,
              "#46039f"
             ],
             [
              0.2222222222222222,
              "#7201a8"
             ],
             [
              0.3333333333333333,
              "#9c179e"
             ],
             [
              0.4444444444444444,
              "#bd3786"
             ],
             [
              0.5555555555555556,
              "#d8576b"
             ],
             [
              0.6666666666666666,
              "#ed7953"
             ],
             [
              0.7777777777777778,
              "#fb9f3a"
             ],
             [
              0.8888888888888888,
              "#fdca26"
             ],
             [
              1,
              "#f0f921"
             ]
            ],
            "type": "histogram2d"
           }
          ],
          "histogram2dcontour": [
           {
            "colorbar": {
             "outlinewidth": 0,
             "ticks": ""
            },
            "colorscale": [
             [
              0,
              "#0d0887"
             ],
             [
              0.1111111111111111,
              "#46039f"
             ],
             [
              0.2222222222222222,
              "#7201a8"
             ],
             [
              0.3333333333333333,
              "#9c179e"
             ],
             [
              0.4444444444444444,
              "#bd3786"
             ],
             [
              0.5555555555555556,
              "#d8576b"
             ],
             [
              0.6666666666666666,
              "#ed7953"
             ],
             [
              0.7777777777777778,
              "#fb9f3a"
             ],
             [
              0.8888888888888888,
              "#fdca26"
             ],
             [
              1,
              "#f0f921"
             ]
            ],
            "type": "histogram2dcontour"
           }
          ],
          "mesh3d": [
           {
            "colorbar": {
             "outlinewidth": 0,
             "ticks": ""
            },
            "type": "mesh3d"
           }
          ],
          "parcoords": [
           {
            "line": {
             "colorbar": {
              "outlinewidth": 0,
              "ticks": ""
             }
            },
            "type": "parcoords"
           }
          ],
          "pie": [
           {
            "automargin": true,
            "type": "pie"
           }
          ],
          "scatter": [
           {
            "marker": {
             "colorbar": {
              "outlinewidth": 0,
              "ticks": ""
             }
            },
            "type": "scatter"
           }
          ],
          "scatter3d": [
           {
            "line": {
             "colorbar": {
              "outlinewidth": 0,
              "ticks": ""
             }
            },
            "marker": {
             "colorbar": {
              "outlinewidth": 0,
              "ticks": ""
             }
            },
            "type": "scatter3d"
           }
          ],
          "scattercarpet": [
           {
            "marker": {
             "colorbar": {
              "outlinewidth": 0,
              "ticks": ""
             }
            },
            "type": "scattercarpet"
           }
          ],
          "scattergeo": [
           {
            "marker": {
             "colorbar": {
              "outlinewidth": 0,
              "ticks": ""
             }
            },
            "type": "scattergeo"
           }
          ],
          "scattergl": [
           {
            "marker": {
             "colorbar": {
              "outlinewidth": 0,
              "ticks": ""
             }
            },
            "type": "scattergl"
           }
          ],
          "scattermapbox": [
           {
            "marker": {
             "colorbar": {
              "outlinewidth": 0,
              "ticks": ""
             }
            },
            "type": "scattermapbox"
           }
          ],
          "scatterpolar": [
           {
            "marker": {
             "colorbar": {
              "outlinewidth": 0,
              "ticks": ""
             }
            },
            "type": "scatterpolar"
           }
          ],
          "scatterpolargl": [
           {
            "marker": {
             "colorbar": {
              "outlinewidth": 0,
              "ticks": ""
             }
            },
            "type": "scatterpolargl"
           }
          ],
          "scatterternary": [
           {
            "marker": {
             "colorbar": {
              "outlinewidth": 0,
              "ticks": ""
             }
            },
            "type": "scatterternary"
           }
          ],
          "surface": [
           {
            "colorbar": {
             "outlinewidth": 0,
             "ticks": ""
            },
            "colorscale": [
             [
              0,
              "#0d0887"
             ],
             [
              0.1111111111111111,
              "#46039f"
             ],
             [
              0.2222222222222222,
              "#7201a8"
             ],
             [
              0.3333333333333333,
              "#9c179e"
             ],
             [
              0.4444444444444444,
              "#bd3786"
             ],
             [
              0.5555555555555556,
              "#d8576b"
             ],
             [
              0.6666666666666666,
              "#ed7953"
             ],
             [
              0.7777777777777778,
              "#fb9f3a"
             ],
             [
              0.8888888888888888,
              "#fdca26"
             ],
             [
              1,
              "#f0f921"
             ]
            ],
            "type": "surface"
           }
          ],
          "table": [
           {
            "cells": {
             "fill": {
              "color": "#EBF0F8"
             },
             "line": {
              "color": "white"
             }
            },
            "header": {
             "fill": {
              "color": "#C8D4E3"
             },
             "line": {
              "color": "white"
             }
            },
            "type": "table"
           }
          ]
         },
         "layout": {
          "annotationdefaults": {
           "arrowcolor": "#2a3f5f",
           "arrowhead": 0,
           "arrowwidth": 1
          },
          "autotypenumbers": "strict",
          "coloraxis": {
           "colorbar": {
            "outlinewidth": 0,
            "ticks": ""
           }
          },
          "colorscale": {
           "diverging": [
            [
             0,
             "#8e0152"
            ],
            [
             0.1,
             "#c51b7d"
            ],
            [
             0.2,
             "#de77ae"
            ],
            [
             0.3,
             "#f1b6da"
            ],
            [
             0.4,
             "#fde0ef"
            ],
            [
             0.5,
             "#f7f7f7"
            ],
            [
             0.6,
             "#e6f5d0"
            ],
            [
             0.7,
             "#b8e186"
            ],
            [
             0.8,
             "#7fbc41"
            ],
            [
             0.9,
             "#4d9221"
            ],
            [
             1,
             "#276419"
            ]
           ],
           "sequential": [
            [
             0,
             "#0d0887"
            ],
            [
             0.1111111111111111,
             "#46039f"
            ],
            [
             0.2222222222222222,
             "#7201a8"
            ],
            [
             0.3333333333333333,
             "#9c179e"
            ],
            [
             0.4444444444444444,
             "#bd3786"
            ],
            [
             0.5555555555555556,
             "#d8576b"
            ],
            [
             0.6666666666666666,
             "#ed7953"
            ],
            [
             0.7777777777777778,
             "#fb9f3a"
            ],
            [
             0.8888888888888888,
             "#fdca26"
            ],
            [
             1,
             "#f0f921"
            ]
           ],
           "sequentialminus": [
            [
             0,
             "#0d0887"
            ],
            [
             0.1111111111111111,
             "#46039f"
            ],
            [
             0.2222222222222222,
             "#7201a8"
            ],
            [
             0.3333333333333333,
             "#9c179e"
            ],
            [
             0.4444444444444444,
             "#bd3786"
            ],
            [
             0.5555555555555556,
             "#d8576b"
            ],
            [
             0.6666666666666666,
             "#ed7953"
            ],
            [
             0.7777777777777778,
             "#fb9f3a"
            ],
            [
             0.8888888888888888,
             "#fdca26"
            ],
            [
             1,
             "#f0f921"
            ]
           ]
          },
          "colorway": [
           "#636efa",
           "#EF553B",
           "#00cc96",
           "#ab63fa",
           "#FFA15A",
           "#19d3f3",
           "#FF6692",
           "#B6E880",
           "#FF97FF",
           "#FECB52"
          ],
          "font": {
           "color": "#2a3f5f"
          },
          "geo": {
           "bgcolor": "white",
           "lakecolor": "white",
           "landcolor": "#E5ECF6",
           "showlakes": true,
           "showland": true,
           "subunitcolor": "white"
          },
          "hoverlabel": {
           "align": "left"
          },
          "hovermode": "closest",
          "mapbox": {
           "style": "light"
          },
          "paper_bgcolor": "white",
          "plot_bgcolor": "#E5ECF6",
          "polar": {
           "angularaxis": {
            "gridcolor": "white",
            "linecolor": "white",
            "ticks": ""
           },
           "bgcolor": "#E5ECF6",
           "radialaxis": {
            "gridcolor": "white",
            "linecolor": "white",
            "ticks": ""
           }
          },
          "scene": {
           "xaxis": {
            "backgroundcolor": "#E5ECF6",
            "gridcolor": "white",
            "gridwidth": 2,
            "linecolor": "white",
            "showbackground": true,
            "ticks": "",
            "zerolinecolor": "white"
           },
           "yaxis": {
            "backgroundcolor": "#E5ECF6",
            "gridcolor": "white",
            "gridwidth": 2,
            "linecolor": "white",
            "showbackground": true,
            "ticks": "",
            "zerolinecolor": "white"
           },
           "zaxis": {
            "backgroundcolor": "#E5ECF6",
            "gridcolor": "white",
            "gridwidth": 2,
            "linecolor": "white",
            "showbackground": true,
            "ticks": "",
            "zerolinecolor": "white"
           }
          },
          "shapedefaults": {
           "line": {
            "color": "#2a3f5f"
           }
          },
          "ternary": {
           "aaxis": {
            "gridcolor": "white",
            "linecolor": "white",
            "ticks": ""
           },
           "baxis": {
            "gridcolor": "white",
            "linecolor": "white",
            "ticks": ""
           },
           "bgcolor": "#E5ECF6",
           "caxis": {
            "gridcolor": "white",
            "linecolor": "white",
            "ticks": ""
           }
          },
          "title": {
           "x": 0.05
          },
          "xaxis": {
           "automargin": true,
           "gridcolor": "white",
           "linecolor": "white",
           "ticks": "",
           "title": {
            "standoff": 15
           },
           "zerolinecolor": "white",
           "zerolinewidth": 2
          },
          "yaxis": {
           "automargin": true,
           "gridcolor": "white",
           "linecolor": "white",
           "ticks": "",
           "title": {
            "standoff": 15
           },
           "zerolinecolor": "white",
           "zerolinewidth": 2
          }
         }
        },
        "title": {
         "text": "Number of deaths per sex"
        },
        "width": 800,
        "xaxis": {
         "anchor": "y",
         "domain": [
          0,
          1
         ],
         "title": {
          "text": "Year"
         }
        },
        "yaxis": {
         "anchor": "x",
         "domain": [
          0,
          1
         ],
         "title": {
          "text": "Num of Deaths"
         }
        }
       }
      }
     },
     "metadata": {},
     "output_type": "display_data"
    }
   ],
   "source": [
    "dfDeathsPerYear = nycDF.groupBy('Year').agg({'Deaths':'sum'}).sort(\"Year\").toPandas()\n",
    "configure_plotly_browser_state()\n",
    "px.bar(data_frame=dfDeathsPerYear, x = 'Year', y = 'sum(Deaths)', title = \"Number of deaths per sex\",labels = {\"sum(Deaths)\":\"Num of Deaths\"}, width = 800)\n",
    "#The data for 2015, 2016, 2017 is not in the Dataset"
   ]
  },
  {
   "cell_type": "markdown",
   "metadata": {},
   "source": [
    "Number of Deaths per Year/Sex"
   ]
  },
  {
   "cell_type": "code",
   "execution_count": 17,
   "metadata": {},
   "outputs": [
    {
     "name": "stdout",
     "output_type": "stream",
     "text": [
      "+----+---+-----------+\n",
      "|Year|Sex|sum(Deaths)|\n",
      "+----+---+-----------+\n",
      "|2007|  F|      27787|\n",
      "|2007|  M|      26261|\n",
      "|2008|  F|      27840|\n",
      "|2008|  M|      26336|\n",
      "|2009|  F|      26969|\n",
      "|2009|  M|      25895|\n",
      "|2010|  M|      25848|\n",
      "|2010|  F|      26701|\n",
      "|2011|  M|      25669|\n",
      "|2011|  F|      27105|\n",
      "|2012|  M|      25662|\n",
      "|2012|  F|      26782|\n",
      "|2013|  F|      27139|\n",
      "|2013|  M|      26260|\n",
      "|2014|  M|      26090|\n",
      "|2014|  F|      26930|\n",
      "|2019|  M|      27673|\n",
      "|2019|  F|      26886|\n",
      "+----+---+-----------+\n",
      "\n"
     ]
    }
   ],
   "source": [
    "nycDF.groupBy([\"Year\",\"Sex\"]).agg({'Deaths':'Sum'}).sort(\"Year\").show()"
   ]
  },
  {
   "cell_type": "code",
   "execution_count": 18,
   "metadata": {},
   "outputs": [
    {
     "data": {
      "image/png": "[encoded data removed]",
      "text/plain": [
       "<Figure size 432x288 with 1 Axes>"
      ]
     },
     "metadata": {
      "needs_background": "light"
     },
     "output_type": "display_data"
    }
   ],
   "source": [
    "dfYearSexDeaths = nycDF.groupBy([\"Year\",\"Sex\"]).agg({'Deaths':'Sum'}).sort(\"Year\").toPandas()\n",
    "#px.bar(data_frame=dfDeathsPerYear, x = 'Year', y = 'sum(Deaths)', title = \"Number of deaths per sex\",labels = {\"sum(Deaths)\":\"Num of Deaths\"},barmode='group', color = \"Sex\")\n",
    "sns.barplot(data = dfYearSexDeaths, x = \"Year\", y ='sum(Deaths)', hue = \"Sex\");"
   ]
  },
  {
   "cell_type": "code",
   "execution_count": 19,
   "metadata": {},
   "outputs": [
    {
     "name": "stdout",
     "output_type": "stream",
     "text": [
      "+------+-----+\n",
      "|Deaths|count|\n",
      "+------+-----+\n",
      "|  1199|    1|\n",
      "|   501|    1|\n",
      "|   472|    1|\n",
      "|   633|    1|\n",
      "|  2366|    1|\n",
      "|   496|    1|\n",
      "|   540|    1|\n",
      "|   530|    1|\n",
      "|  1025|    1|\n",
      "|   101|    1|\n",
      "|  1507|    1|\n",
      "|  1201|    1|\n",
      "|   451|    1|\n",
      "|   300|    1|\n",
      "|   458|    1|\n",
      "|  1163|    1|\n",
      "|   255|    1|\n",
      "|   988|    1|\n",
      "|   243|    1|\n",
      "|  1307|    1|\n",
      "+------+-----+\n",
      "only showing top 20 rows\n",
      "\n"
     ]
    }
   ],
   "source": [
    "nycDF.groupBy(\"Deaths\").count().sort('count').show()"
   ]
  },
  {
   "cell_type": "markdown",
   "metadata": {},
   "source": [
    "Number of Deaths per Race Ethnicity"
   ]
  },
  {
   "cell_type": "code",
   "execution_count": 20,
   "metadata": {},
   "outputs": [
    {
     "name": "stdout",
     "output_type": "stream",
     "text": [
      "+--------------------------+-----------+\n",
      "|Race Ethnicity            |sum(Deaths)|\n",
      "+--------------------------+-----------+\n",
      "|White Non-Hispanic        |229122     |\n",
      "|Black Non-Hispanic        |125829     |\n",
      "|Hispanic                  |86062      |\n",
      "|Asian and Pacific Islander|30953      |\n",
      "|Not Stated/Unknown        |5061       |\n",
      "|Other Race/ Ethnicity     |2806       |\n",
      "+--------------------------+-----------+\n",
      "\n"
     ]
    }
   ],
   "source": [
    "nycDF.groupBy('Race Ethnicity').agg({\"Deaths\":'Sum'}).sort(\"sum(Deaths)\", ascending = False).show(truncate = False)"
   ]
  },
  {
   "cell_type": "code",
   "execution_count": 21,
   "metadata": {},
   "outputs": [
    {
     "name": "stdout",
     "output_type": "stream",
     "text": [
      "+--------------------------------------------------------------------------------+-----------+\n",
      "|                                                                   Leading Cause|sum(Deaths)|\n",
      "+--------------------------------------------------------------------------------+-----------+\n",
      "|                                  Diseases of Heart (I00-I09, I11, I13, I20-I51)|      40020|\n",
      "|                                           Malignant Neoplasms (Cancer: C00-C97)|      30060|\n",
      "|                                                                All Other Causes|      24491|\n",
      "|                                                     Diabetes Mellitus (E10-E14)|       6201|\n",
      "|                                         Influenza (Flu) and Pneumonia (J09-J18)|       4586|\n",
      "|                                       Cerebrovascular Disease (Stroke: I60-I69)|       4193|\n",
      "|                             Human Immunodeficiency Virus Disease (HIV: B20-B24)|       3583|\n",
      "|                                    Chronic Lower Respiratory Diseases (J40-J47)|       3512|\n",
      "|                            Essential Hypertension and Renal Diseases (I10, I12)|       3378|\n",
      "|                                              Assault (Homicide: Y87.1, X85-Y09)|       1968|\n",
      "|                Accidents Except Drug Posioning (V01-X39, X43, X45-X59, Y85-Y86)|       1201|\n",
      "|Mental and Behavioral Disorders due to Accidental Poisoning and Other Psychoa...|        799|\n",
      "|                                                       Alzheimer's Disease (G30)|        772|\n",
      "|         Nephritis, Nephrotic Syndrome and Nephrisis (N00-N07, N17-N19, N25-N27)|        670|\n",
      "|                                     Assault (Homicide: U01-U02, Y87.1, X85-Y09)|        156|\n",
      "|                Accidents Except Drug Poisoning (V01-X39, X43, X45-X59, Y85-Y86)|        150|\n",
      "|                                                            Septicemia (A40-A41)|         89|\n",
      "+--------------------------------------------------------------------------------+-----------+\n",
      "\n"
     ]
    }
   ],
   "source": [
    "nycDF.where(nycDF['Race Ethnicity'] == 'Black Non-Hispanic').groupBy('Leading Cause').agg({'Deaths':'Sum'}).sort(\"sum(Deaths)\", ascending = False).show(truncate = 80)"
   ]
  },
  {
   "cell_type": "markdown",
   "metadata": {},
   "source": [
    "Main cause of death for Sex == Masculine"
   ]
  },
  {
   "cell_type": "code",
   "execution_count": 22,
   "metadata": {},
   "outputs": [
    {
     "name": "stdout",
     "output_type": "stream",
     "text": [
      "+--------------------------------------------------------------------------------+-----------+\n",
      "|                                                                   Leading Cause|sum(Deaths)|\n",
      "+--------------------------------------------------------------------------------+-----------+\n",
      "|                                  Diseases of Heart (I00-I09, I11, I13, I20-I51)|      77760|\n",
      "|                                           Malignant Neoplasms (Cancer: C00-C97)|      58653|\n",
      "|                                                                All Other Causes|      45035|\n",
      "|                                         Influenza (Flu) and Pneumonia (J09-J18)|       9755|\n",
      "|                                                     Diabetes Mellitus (E10-E14)|       7565|\n",
      "|                                    Chronic Lower Respiratory Diseases (J40-J47)|       6864|\n",
      "|                                       Cerebrovascular Disease (Stroke: I60-I69)|       6156|\n",
      "|                Accidents Except Drug Posioning (V01-X39, X43, X45-X59, Y85-Y86)|       5197|\n",
      "|Mental and Behavioral Disorders due to Accidental Poisoning and Other Psychoa...|       4924|\n",
      "|                             Human Immunodeficiency Virus Disease (HIV: B20-B24)|       3638|\n",
      "|                            Essential Hypertension and Renal Diseases (I10, I12)|       3214|\n",
      "|                                              Assault (Homicide: Y87.1, X85-Y09)|       2112|\n",
      "|                                 Intentional Self-Harm (Suicide: X60-X84, Y87.0)|       1917|\n",
      "|                                  Chronic Liver Disease and Cirrhosis (K70, K73)|       1328|\n",
      "|                Accidents Except Drug Poisoning (V01-X39, X43, X45-X59, Y85-Y86)|        668|\n",
      "|                            Intentional Self-Harm (Suicide: U03, X60-X84, Y87.0)|        253|\n",
      "|                              Chronic Liver Disease and Cirrhosis (K70, K73-K74)|        189|\n",
      "|                                     Assault (Homicide: U01-U02, Y87.1, X85-Y09)|        158|\n",
      "|                Certain Conditions originating in the Perinatal Period (P00-P96)|        146|\n",
      "|         Nephritis, Nephrotic Syndrome and Nephrisis (N00-N07, N17-N19, N25-N27)|         44|\n",
      "+--------------------------------------------------------------------------------+-----------+\n",
      "only showing top 20 rows\n",
      "\n"
     ]
    }
   ],
   "source": [
    "nycDF.where(nycDF.Sex == 'M').groupBy(\"Leading Cause\").sum('Deaths').sort(\"sum(Deaths)\", ascending = False).show(truncate = 80)"
   ]
  },
  {
   "cell_type": "markdown",
   "metadata": {},
   "source": [
    "Main causes of death for Sex == Feminine"
   ]
  },
  {
   "cell_type": "code",
   "execution_count": 23,
   "metadata": {},
   "outputs": [
    {
     "name": "stdout",
     "output_type": "stream",
     "text": [
      "+--------------------------------------------------------------------------------+-----------+\n",
      "|                                                                   Leading Cause|sum(Deaths)|\n",
      "+--------------------------------------------------------------------------------+-----------+\n",
      "|                                  Diseases of Heart (I00-I09, I11, I13, I20-I51)|      87612|\n",
      "|                                           Malignant Neoplasms (Cancer: C00-C97)|      60162|\n",
      "|                                                                All Other Causes|      44574|\n",
      "|                                         Influenza (Flu) and Pneumonia (J09-J18)|      10563|\n",
      "|                                       Cerebrovascular Disease (Stroke: I60-I69)|       8682|\n",
      "|                                    Chronic Lower Respiratory Diseases (J40-J47)|       8183|\n",
      "|                                                     Diabetes Mellitus (E10-E14)|       8135|\n",
      "|                            Essential Hypertension and Renal Diseases (I10, I12)|       5080|\n",
      "|                                                       Alzheimer's Disease (G30)|       3793|\n",
      "|                Accidents Except Drug Posioning (V01-X39, X43, X45-X59, Y85-Y86)|       2294|\n",
      "|                             Human Immunodeficiency Virus Disease (HIV: B20-B24)|       1807|\n",
      "|Mental and Behavioral Disorders due to Accidental Poisoning and Other Psychoa...|        888|\n",
      "|         Nephritis, Nephrotic Syndrome and Nephrisis (N00-N07, N17-N19, N25-N27)|        815|\n",
      "|                                                            Septicemia (A40-A41)|        638|\n",
      "|                Accidents Except Drug Poisoning (V01-X39, X43, X45-X59, Y85-Y86)|        318|\n",
      "|                                  Chronic Liver Disease and Cirrhosis (K70, K73)|        193|\n",
      "|                                 Intentional Self-Harm (Suicide: X60-X84, Y87.0)|        183|\n",
      "|                Certain Conditions originating in the Perinatal Period (P00-P96)|         92|\n",
      "|                            Intentional Self-Harm (Suicide: U03, X60-X84, Y87.0)|         46|\n",
      "| Congenital Malformations, Deformations, and Chromosomal Abnormalities (Q00-Q99)|         19|\n",
      "+--------------------------------------------------------------------------------+-----------+\n",
      "only showing top 20 rows\n",
      "\n"
     ]
    }
   ],
   "source": [
    "nycDF.where(nycDF.Sex == 'F').groupBy(\"Leading Cause\").sum('Deaths').sort(\"sum(Deaths)\", ascending = False).show(truncate = 80)"
   ]
  },
  {
   "cell_type": "markdown",
   "metadata": {},
   "source": [
    "Main causes of death for White Non-Hispanic"
   ]
  },
  {
   "cell_type": "code",
   "execution_count": 24,
   "metadata": {},
   "outputs": [
    {
     "name": "stdout",
     "output_type": "stream",
     "text": [
      "+--------------------------------------------------------------------------------+-----------+\n",
      "|                                                                   Leading Cause|sum(Deaths)|\n",
      "+--------------------------------------------------------------------------------+-----------+\n",
      "|                                  Diseases of Heart (I00-I09, I11, I13, I20-I51)|      89595|\n",
      "|                                           Malignant Neoplasms (Cancer: C00-C97)|      58116|\n",
      "|                                                                All Other Causes|      38376|\n",
      "|                                         Influenza (Flu) and Pneumonia (J09-J18)|      10257|\n",
      "|                                    Chronic Lower Respiratory Diseases (J40-J47)|       7938|\n",
      "|                                       Cerebrovascular Disease (Stroke: I60-I69)|       6022|\n",
      "|                                                     Diabetes Mellitus (E10-E14)|       4457|\n",
      "|                Accidents Except Drug Posioning (V01-X39, X43, X45-X59, Y85-Y86)|       3598|\n",
      "|                            Essential Hypertension and Renal Diseases (I10, I12)|       3148|\n",
      "|Mental and Behavioral Disorders due to Accidental Poisoning and Other Psychoa...|       2838|\n",
      "|                                                       Alzheimer's Disease (G30)|       2043|\n",
      "|                                 Intentional Self-Harm (Suicide: X60-X84, Y87.0)|       1539|\n",
      "|                                                            Septicemia (A40-A41)|        473|\n",
      "|                Accidents Except Drug Poisoning (V01-X39, X43, X45-X59, Y85-Y86)|        439|\n",
      "|                            Intentional Self-Harm (Suicide: U03, X60-X84, Y87.0)|        194|\n",
      "|         Nephritis, Nephrotic Syndrome and Nephrisis (N00-N07, N17-N19, N25-N27)|         89|\n",
      "+--------------------------------------------------------------------------------+-----------+\n",
      "\n"
     ]
    }
   ],
   "source": [
    "nycDF.where(nycDF['Race Ethnicity'] == 'White Non-Hispanic').groupBy('Leading Cause').agg({'Deaths':'Sum'}).sort(\"sum(Deaths)\", ascending = False).show(truncate = 80)"
   ]
  },
  {
   "cell_type": "markdown",
   "metadata": {},
   "source": [
    "Main causes of death for Black Non-Hispanic"
   ]
  },
  {
   "cell_type": "code",
   "execution_count": 25,
   "metadata": {},
   "outputs": [
    {
     "name": "stdout",
     "output_type": "stream",
     "text": [
      "+--------------------------------------------------------------------------------+-----------+\n",
      "|                                                                   Leading Cause|sum(Deaths)|\n",
      "+--------------------------------------------------------------------------------+-----------+\n",
      "|                                  Diseases of Heart (I00-I09, I11, I13, I20-I51)|      40020|\n",
      "|                                           Malignant Neoplasms (Cancer: C00-C97)|      30060|\n",
      "|                                                                All Other Causes|      24491|\n",
      "|                                                     Diabetes Mellitus (E10-E14)|       6201|\n",
      "|                                         Influenza (Flu) and Pneumonia (J09-J18)|       4586|\n",
      "|                                       Cerebrovascular Disease (Stroke: I60-I69)|       4193|\n",
      "|                             Human Immunodeficiency Virus Disease (HIV: B20-B24)|       3583|\n",
      "|                                    Chronic Lower Respiratory Diseases (J40-J47)|       3512|\n",
      "|                            Essential Hypertension and Renal Diseases (I10, I12)|       3378|\n",
      "|                                              Assault (Homicide: Y87.1, X85-Y09)|       1968|\n",
      "|                Accidents Except Drug Posioning (V01-X39, X43, X45-X59, Y85-Y86)|       1201|\n",
      "|Mental and Behavioral Disorders due to Accidental Poisoning and Other Psychoa...|        799|\n",
      "|                                                       Alzheimer's Disease (G30)|        772|\n",
      "|         Nephritis, Nephrotic Syndrome and Nephrisis (N00-N07, N17-N19, N25-N27)|        670|\n",
      "|                                     Assault (Homicide: U01-U02, Y87.1, X85-Y09)|        156|\n",
      "|                Accidents Except Drug Poisoning (V01-X39, X43, X45-X59, Y85-Y86)|        150|\n",
      "|                                                            Septicemia (A40-A41)|         89|\n",
      "+--------------------------------------------------------------------------------+-----------+\n",
      "\n"
     ]
    }
   ],
   "source": [
    "nycDF.where(nycDF['Race Ethnicity'] == 'Black Non-Hispanic').groupBy('Leading Cause').agg({'Deaths':'Sum'}).sort(\"sum(Deaths)\", ascending = False).show(truncate = 80)"
   ]
  },
  {
   "cell_type": "markdown",
   "metadata": {},
   "source": [
    "Main causes of Death for Hispanic"
   ]
  },
  {
   "cell_type": "code",
   "execution_count": 26,
   "metadata": {},
   "outputs": [
    {
     "name": "stdout",
     "output_type": "stream",
     "text": [
      "+--------------------------------------------------------------------------------+-----------+\n",
      "|                                                                   Leading Cause|sum(Deaths)|\n",
      "+--------------------------------------------------------------------------------+-----------+\n",
      "|                                  Diseases of Heart (I00-I09, I11, I13, I20-I51)|      24240|\n",
      "|                                           Malignant Neoplasms (Cancer: C00-C97)|      19908|\n",
      "|                                                                All Other Causes|      19597|\n",
      "|                                         Influenza (Flu) and Pneumonia (J09-J18)|       3688|\n",
      "|                                                     Diabetes Mellitus (E10-E14)|       3651|\n",
      "|                                       Cerebrovascular Disease (Stroke: I60-I69)|       2991|\n",
      "|                                    Chronic Lower Respiratory Diseases (J40-J47)|       2540|\n",
      "|Mental and Behavioral Disorders due to Accidental Poisoning and Other Psychoa...|       2038|\n",
      "|                Accidents Except Drug Posioning (V01-X39, X43, X45-X59, Y85-Y86)|       1815|\n",
      "|                             Human Immunodeficiency Virus Disease (HIV: B20-B24)|       1771|\n",
      "|                                  Chronic Liver Disease and Cirrhosis (K70, K73)|       1331|\n",
      "|                            Essential Hypertension and Renal Diseases (I10, I12)|       1050|\n",
      "|                                                       Alzheimer's Disease (G30)|        836|\n",
      "|                Accidents Except Drug Poisoning (V01-X39, X43, X45-X59, Y85-Y86)|        272|\n",
      "|                              Chronic Liver Disease and Cirrhosis (K70, K73-K74)|        171|\n",
      "|                                              Assault (Homicide: Y87.1, X85-Y09)|        114|\n",
      "|                                                            Septicemia (A40-A41)|         49|\n",
      "+--------------------------------------------------------------------------------+-----------+\n",
      "\n"
     ]
    }
   ],
   "source": [
    "nycDF.where(nycDF['Race Ethnicity'] == 'Hispanic').groupBy('Leading Cause').agg({'Deaths':'Sum'}).sort(\"sum(Deaths)\", ascending = False).show(truncate = 80)"
   ]
  },
  {
   "cell_type": "code",
   "execution_count": 27,
   "metadata": {},
   "outputs": [
    {
     "name": "stdout",
     "output_type": "stream",
     "text": [
      "+-------------------------------------------------------------------------------+-----------+\n",
      "|                                                                  Leading Cause|sum(Deaths)|\n",
      "+-------------------------------------------------------------------------------+-----------+\n",
      "|                                          Malignant Neoplasms (Cancer: C00-C97)|       9180|\n",
      "|                                 Diseases of Heart (I00-I09, I11, I13, I20-I51)|       8863|\n",
      "|                                                               All Other Causes|       5547|\n",
      "|                                        Influenza (Flu) and Pneumonia (J09-J18)|       1487|\n",
      "|                                      Cerebrovascular Disease (Stroke: I60-I69)|       1448|\n",
      "|                                                    Diabetes Mellitus (E10-E14)|       1073|\n",
      "|                                   Chronic Lower Respiratory Diseases (J40-J47)|        865|\n",
      "|               Accidents Except Drug Posioning (V01-X39, X43, X45-X59, Y85-Y86)|        747|\n",
      "|                           Essential Hypertension and Renal Diseases (I10, I12)|        612|\n",
      "|                                Intentional Self-Harm (Suicide: X60-X84, Y87.0)|        491|\n",
      "|                                                      Alzheimer's Disease (G30)|        155|\n",
      "|                                 Chronic Liver Disease and Cirrhosis (K70, K73)|        133|\n",
      "|               Accidents Except Drug Poisoning (V01-X39, X43, X45-X59, Y85-Y86)|         92|\n",
      "|        Nephritis, Nephrotic Syndrome and Nephrisis (N00-N07, N17-N19, N25-N27)|         90|\n",
      "|                           Intentional Self-Harm (Suicide: U03, X60-X84, Y87.0)|         88|\n",
      "|               Certain Conditions originating in the Perinatal Period (P00-P96)|         37|\n",
      "|                                                           Septicemia (A40-A41)|         16|\n",
      "|                                                      Viral Hepatitis (B15-B19)|         15|\n",
      "|Congenital Malformations, Deformations, and Chromosomal Abnormalities (Q00-Q99)|         14|\n",
      "+-------------------------------------------------------------------------------+-----------+\n",
      "\n"
     ]
    }
   ],
   "source": [
    "nycDF.where(nycDF['Race Ethnicity'] == 'Asian and Pacific Islander').groupBy('Leading Cause').agg({'Deaths':'Sum'}).sort(\"sum(Deaths)\", ascending = False).show(truncate = 80)"
   ]
  },
  {
   "cell_type": "markdown",
   "metadata": {},
   "source": [
    "Which Sex is more victim of homicide\n",
    "The result is impressive, we can see the Black and Hispanic men are much more likely to die by Homicide than Women of all Ethnicity\n",
    "By making a simple division we can conclude that men are around 250 times more prone to die from Homicide then Women"
   ]
  },
  {
   "cell_type": "code",
   "execution_count": 28,
   "metadata": {},
   "outputs": [
    {
     "name": "stdout",
     "output_type": "stream",
     "text": [
      "+---------------------+---+-----------+\n",
      "|       Race Ethnicity|Sex|sum(Deaths)|\n",
      "+---------------------+---+-----------+\n",
      "|   Black Non-Hispanic|  M|       2124|\n",
      "|             Hispanic|  M|        114|\n",
      "|   Not Stated/Unknown|  M|         17|\n",
      "|Other Race/ Ethnicity|  M|         15|\n",
      "|Other Race/ Ethnicity|  F|          7|\n",
      "|   Not Stated/Unknown|  F|          2|\n",
      "+---------------------+---+-----------+\n",
      "\n"
     ]
    }
   ],
   "source": [
    "nycDF.where(nycDF['Leading Cause'].contains('Homicide')).groupBy(['Race Ethnicity','Sex']).agg({'Deaths':'Sum'}).sort(\"sum(Deaths)\", ascending = False).show(truncate=80)"
   ]
  },
  {
   "cell_type": "code",
   "execution_count": 29,
   "metadata": {},
   "outputs": [
    {
     "name": "stdout",
     "output_type": "stream",
     "text": [
      "+---------------------+---+-----------+\n",
      "|       Race Ethnicity|Sex|sum(Deaths)|\n",
      "+---------------------+---+-----------+\n",
      "|   White Non-Hispanic|  M|       2464|\n",
      "|             Hispanic|  M|       1758|\n",
      "|   Black Non-Hispanic|  M|        592|\n",
      "|   White Non-Hispanic|  F|        374|\n",
      "|             Hispanic|  F|        280|\n",
      "|   Black Non-Hispanic|  F|        207|\n",
      "|   Not Stated/Unknown|  M|        102|\n",
      "|Other Race/ Ethnicity|  M|         31|\n",
      "|   Not Stated/Unknown|  F|         19|\n",
      "|Other Race/ Ethnicity|  F|          9|\n",
      "+---------------------+---+-----------+\n",
      "\n"
     ]
    }
   ],
   "source": [
    "nycDF.where(nycDF['Leading Cause'].contains('Mental and Behavioral Disorders')).groupBy(['Race Ethnicity','Sex']).agg({'Deaths':'Sum'}).sort(\"sum(Deaths)\", ascending = False).show(truncate=80)"
   ]
  },
  {
   "cell_type": "markdown",
   "metadata": {},
   "source": [
    "The same can be said about HIV related deaths\n",
    "Black and Hispanic people are much more likely to die from this cause"
   ]
  },
  {
   "cell_type": "code",
   "execution_count": 30,
   "metadata": {},
   "outputs": [
    {
     "name": "stdout",
     "output_type": "stream",
     "text": [
      "+---------------------+---+-----------+\n",
      "|       Race Ethnicity|Sex|sum(Deaths)|\n",
      "+---------------------+---+-----------+\n",
      "|   Black Non-Hispanic|  M|       2259|\n",
      "|   Black Non-Hispanic|  F|       1324|\n",
      "|             Hispanic|  M|       1304|\n",
      "|             Hispanic|  F|        467|\n",
      "|   Not Stated/Unknown|  M|         60|\n",
      "|   Not Stated/Unknown|  F|         16|\n",
      "|Other Race/ Ethnicity|  M|         15|\n",
      "+---------------------+---+-----------+\n",
      "\n"
     ]
    }
   ],
   "source": [
    "nycDF.where(nycDF['Leading Cause'].contains('HIV')).groupBy(['Race Ethnicity','Sex']).agg({'Deaths':'Sum'}).sort(\"sum(Deaths)\", ascending = False).show(truncate=80)"
   ]
  },
  {
   "cell_type": "code",
   "execution_count": 31,
   "metadata": {},
   "outputs": [
    {
     "name": "stdout",
     "output_type": "stream",
     "text": [
      "+--------------------------+---+-----------+\n",
      "|            Race Ethnicity|Sex|sum(Deaths)|\n",
      "+--------------------------+---+-----------+\n",
      "|                  Hispanic|  M|       1319|\n",
      "|                  Hispanic|  F|        183|\n",
      "|Asian and Pacific Islander|  M|        133|\n",
      "|        Not Stated/Unknown|  M|         40|\n",
      "|     Other Race/ Ethnicity|  M|         25|\n",
      "|        Not Stated/Unknown|  F|          8|\n",
      "|     Other Race/ Ethnicity|  F|          2|\n",
      "+--------------------------+---+-----------+\n",
      "\n"
     ]
    }
   ],
   "source": [
    "#i've also decided to analyse this one because it's often associated with alcohol consumption\n",
    "nycDF.where(nycDF['Leading Cause'].contains('Liver Disease')).groupBy(['Race Ethnicity','Sex']).agg({'Deaths':'Sum'}).sort(\"sum(Deaths)\", ascending = False).show(truncate=80)"
   ]
  }
 ],
 "metadata": {
  "kernelspec": {
   "display_name": "Python 3.9.12 ('base')",
   "language": "python",
   "name": "python3"
  },
  "language_info": {
   "codemirror_mode": {
    "name": "ipython",
    "version": 3
   },
   "file_extension": ".py",
   "mimetype": "text/x-python",
   "name": "python",
   "nbconvert_exporter": "python",
   "pygments_lexer": "ipython3",
   "version": "3.9.12"
  },
  "orig_nbformat": 4,
  "vscode": {
   "interpreter": {
    "hash": "3f1fa92065e83bf8b3f9b5096216ce92755ea229f7fd6780b8b3e0f199343520"
   }
  }
 },
 "nbformat": 4,
 "nbformat_minor": 2
}
