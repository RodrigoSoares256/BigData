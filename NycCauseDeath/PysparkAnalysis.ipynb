{
 "cells": [
  {
   "cell_type": "code",
   "execution_count": 1,
   "metadata": {},
   "outputs": [],
   "source": [
    "import findspark\n",
    "findspark.init()"
   ]
  },
  {
   "cell_type": "code",
   "execution_count": 2,
   "metadata": {},
   "outputs": [],
   "source": [
    "from pyspark.sql.functions import udf\n",
    "import pyspark\n",
    "from pyspark import SparkContext\n",
    "from pyspark.sql import SparkSession\n",
    "from pyspark.sql import Window\n",
    "from pyspark.sql.functions import col\n",
    "from pyspark.sql.functions import row_number\n",
    "#from pyspark.sql.functions import lead\n",
    "#from pyspark.sql.functions import min, max\n",
    "#from pyspark.sql.functions import unix_timestamp"
   ]
  },
  {
   "cell_type": "code",
   "execution_count": 3,
   "metadata": {},
   "outputs": [
    {
     "name": "stdout",
     "output_type": "stream",
     "text": [
      "22/08/21 20:40:11 WARN Utils: Your hostname, rodrigo-Dell-G15-5511 resolves to a loopback address: 127.0.1.1; using 192.168.15.132 instead (on interface wlp0s20f3)\n",
      "22/08/21 20:40:11 WARN Utils: Set SPARK_LOCAL_IP if you need to bind to another address\n"
     ]
    },
    {
     "name": "stderr",
     "output_type": "stream",
     "text": [
      "Setting default log level to \"WARN\".\n",
      "To adjust logging level use sc.setLogLevel(newLevel). For SparkR, use setLogLevel(newLevel).\n"
     ]
    },
    {
     "name": "stdout",
     "output_type": "stream",
     "text": [
      "22/08/21 20:40:11 WARN NativeCodeLoader: Unable to load native-hadoop library for your platform... using builtin-java classes where applicable\n"
     ]
    }
   ],
   "source": [
    "sc = SparkContext(appName='Nyc Death Causes')"
   ]
  },
  {
   "cell_type": "code",
   "execution_count": 4,
   "metadata": {},
   "outputs": [
    {
     "data": {
      "text/html": [
       "\n",
       "        <div>\n",
       "            <p><b>SparkContext</b></p>\n",
       "\n",
       "            <p><a href=\"http://192.168.15.132:4040\">Spark UI</a></p>\n",
       "\n",
       "            <dl>\n",
       "              <dt>Version</dt>\n",
       "                <dd><code>v3.3.0</code></dd>\n",
       "              <dt>Master</dt>\n",
       "                <dd><code>local[*]</code></dd>\n",
       "              <dt>AppName</dt>\n",
       "                <dd><code>Nyc Death Causes</code></dd>\n",
       "            </dl>\n",
       "        </div>\n",
       "        "
      ],
      "text/plain": [
       "<SparkContext master=local[*] appName=Nyc Death Causes>"
      ]
     },
     "execution_count": 4,
     "metadata": {},
     "output_type": "execute_result"
    }
   ],
   "source": [
    "sc"
   ]
  },
  {
   "cell_type": "code",
   "execution_count": 5,
   "metadata": {},
   "outputs": [],
   "source": [
    "spark = SparkSession.builder.getOrCreate()"
   ]
  },
  {
   "cell_type": "code",
   "execution_count": 12,
   "metadata": {},
   "outputs": [],
   "source": [
    "file = '../data/New_York_City_Leading_Causes_of_Death.csv'\n",
    "nycDF = spark.read.csv(file,inferSchema=True, header=True)"
   ]
  },
  {
   "cell_type": "code",
   "execution_count": 13,
   "metadata": {},
   "outputs": [
    {
     "name": "stdout",
     "output_type": "stream",
     "text": [
      "+----+--------------------+---+--------------------+------+----------+-----------------------+\n",
      "|Year|       Leading Cause|Sex|      Race Ethnicity|Deaths|Death Rate|Age Adjusted Death Rate|\n",
      "+----+--------------------+---+--------------------+------+----------+-----------------------+\n",
      "|2009|Nephritis, Nephro...|  F|Other Race/ Ethni...|     .|         .|                      .|\n",
      "|2013|Influenza (Flu) a...|  F|            Hispanic|   204|      16.3|                   18.5|\n",
      "|2012|Assault (Homicide...|  M|Other Race/ Ethni...|     .|         .|                      .|\n",
      "|2007|Essential Hyperte...|  F|  Not Stated/Unknown|     5|         .|                      .|\n",
      "|2014|Cerebrovascular D...|  F|  White Non-Hispanic|   418|      29.5|                   15.6|\n",
      "+----+--------------------+---+--------------------+------+----------+-----------------------+\n",
      "only showing top 5 rows\n",
      "\n"
     ]
    }
   ],
   "source": [
    "nycDF.show(5)"
   ]
  },
  {
   "cell_type": "code",
   "execution_count": 24,
   "metadata": {},
   "outputs": [],
   "source": [
    "nycDF = nycDF.replace(['Female','Male'],['F','M'])"
   ]
  },
  {
   "cell_type": "code",
   "execution_count": 25,
   "metadata": {},
   "outputs": [
    {
     "name": "stdout",
     "output_type": "stream",
     "text": [
      "+---+-----+\n",
      "|Sex|count|\n",
      "+---+-----+\n",
      "|  F|  644|\n",
      "|  M|  628|\n",
      "+---+-----+\n",
      "\n"
     ]
    }
   ],
   "source": [
    "nycDF.groupBy(\"Sex\").count().show()"
   ]
  },
  {
   "cell_type": "code",
   "execution_count": 48,
   "metadata": {},
   "outputs": [
    {
     "data": {
      "text/plain": [
       "[Row(avg(Deaths)=422.88977072310405)]"
      ]
     },
     "execution_count": 48,
     "metadata": {},
     "output_type": "execute_result"
    }
   ],
   "source": [
    "nycDF.agg({\"Deaths\":'mean'}).collect()"
   ]
  },
  {
   "cell_type": "code",
   "execution_count": 47,
   "metadata": {},
   "outputs": [
    {
     "name": "stdout",
     "output_type": "stream",
     "text": [
      "+----+-----------+\n",
      "|Year|sum(Deaths)|\n",
      "+----+-----------+\n",
      "|2007|    53996.0|\n",
      "|2008|    54138.0|\n",
      "|2009|    52820.0|\n",
      "|2010|    52505.0|\n",
      "|2011|    52726.0|\n",
      "|2012|    52420.0|\n",
      "|2013|    53387.0|\n",
      "|2014|    53006.0|\n",
      "|2019|    54559.0|\n",
      "+----+-----------+\n",
      "\n"
     ]
    }
   ],
   "source": [
    "nycDF.groupBy('Year').agg({'Deaths':'sum'}).sort(\"Year\").show()"
   ]
  },
  {
   "cell_type": "code",
   "execution_count": 34,
   "metadata": {},
   "outputs": [
    {
     "name": "stdout",
     "output_type": "stream",
     "text": [
      "+--------------------+-----+\n",
      "|      Race Ethnicity|count|\n",
      "+--------------------+-----+\n",
      "|  Black Non-Hispanic|  178|\n",
      "|  Not Stated/Unknown|  223|\n",
      "|  White Non-Hispanic|  176|\n",
      "|  Non-Hispanic Black|   22|\n",
      "|Asian and Pacific...|  199|\n",
      "|Other Race/ Ethni...|  253|\n",
      "|            Hispanic|  199|\n",
      "|  Non-Hispanic White|   22|\n",
      "+--------------------+-----+\n",
      "\n"
     ]
    }
   ],
   "source": [
    "nycDF.groupBy('Race Ethnicity').count().show()"
   ]
  },
  {
   "cell_type": "code",
   "execution_count": 37,
   "metadata": {},
   "outputs": [
    {
     "name": "stdout",
     "output_type": "stream",
     "text": [
      "+--------------------+-----+\n",
      "|       Leading Cause|count|\n",
      "+--------------------+-----+\n",
      "|    All Other Causes|  110|\n",
      "|Influenza (Flu) a...|  110|\n",
      "|Diseases of Heart...|  110|\n",
      "|Malignant Neoplas...|  110|\n",
      "|Diabetes Mellitus...|  106|\n",
      "|Cerebrovascular D...|  103|\n",
      "|Chronic Lower Res...|  100|\n",
      "|Essential Hyperte...|   88|\n",
      "|Accidents Except ...|   80|\n",
      "|Mental and Behavi...|   51|\n",
      "|Human Immunodefic...|   44|\n",
      "|Alzheimer's Disea...|   40|\n",
      "|Intentional Self-...|   38|\n",
      "|Chronic Liver Dis...|   29|\n",
      "|Certain Condition...|   28|\n",
      "|Assault (Homicide...|   20|\n",
      "|Nephritis, Nephro...|   19|\n",
      "|Septicemia (A40-A41)|   16|\n",
      "|Accidents Except ...|   13|\n",
      "|Congenital Malfor...|   10|\n",
      "+--------------------+-----+\n",
      "only showing top 20 rows\n",
      "\n"
     ]
    }
   ],
   "source": [
    "nycDF.groupBy('Leading Cause').count().sort('count', ascending = False).show()"
   ]
  },
  {
   "cell_type": "code",
   "execution_count": 45,
   "metadata": {},
   "outputs": [
    {
     "name": "stdout",
     "output_type": "stream",
     "text": [
      "+--------------------+-----+\n",
      "|       Leading Cause|count|\n",
      "+--------------------+-----+\n",
      "|    All Other Causes|   55|\n",
      "|Influenza (Flu) a...|   55|\n",
      "|Diseases of Heart...|   55|\n",
      "|Malignant Neoplas...|   55|\n",
      "|Diabetes Mellitus...|   52|\n",
      "|Chronic Lower Res...|   49|\n",
      "|Cerebrovascular D...|   48|\n",
      "|Accidents Except ...|   45|\n",
      "|Essential Hyperte...|   35|\n",
      "|Mental and Behavi...|   33|\n",
      "|Human Immunodefic...|   27|\n",
      "|Intentional Self-...|   26|\n",
      "|Chronic Liver Dis...|   21|\n",
      "|Assault (Homicide...|   17|\n",
      "|Certain Condition...|   14|\n",
      "|Accidents Except ...|    7|\n",
      "|Mental and Behavi...|    5|\n",
      "|Intentional Self-...|    4|\n",
      "|Viral Hepatitis (...|    4|\n",
      "|Nephritis, Nephro...|    3|\n",
      "+--------------------+-----+\n",
      "only showing top 20 rows\n",
      "\n"
     ]
    }
   ],
   "source": [
    "nycDF.where(nycDF.Sex == 'M').groupBy(\"Leading Cause\").count().sort('count', ascending = False).show()"
   ]
  },
  {
   "cell_type": "code",
   "execution_count": 46,
   "metadata": {},
   "outputs": [
    {
     "name": "stdout",
     "output_type": "stream",
     "text": [
      "+--------------------+-----+\n",
      "|       Leading Cause|count|\n",
      "+--------------------+-----+\n",
      "|Cerebrovascular D...|   55|\n",
      "|Diseases of Heart...|   55|\n",
      "|    All Other Causes|   55|\n",
      "|Malignant Neoplas...|   55|\n",
      "|Influenza (Flu) a...|   55|\n",
      "|Diabetes Mellitus...|   54|\n",
      "|Essential Hyperte...|   53|\n",
      "|Chronic Lower Res...|   51|\n",
      "|Alzheimer's Disea...|   37|\n",
      "|Accidents Except ...|   35|\n",
      "|Mental and Behavi...|   18|\n",
      "|Human Immunodefic...|   17|\n",
      "|Nephritis, Nephro...|   16|\n",
      "|Certain Condition...|   14|\n",
      "|Septicemia (A40-A41)|   13|\n",
      "|Intentional Self-...|   12|\n",
      "|Chronic Liver Dis...|    8|\n",
      "|Congenital Malfor...|    7|\n",
      "|Insitu or Benign ...|    6|\n",
      "|Accidents Except ...|    6|\n",
      "+--------------------+-----+\n",
      "only showing top 20 rows\n",
      "\n"
     ]
    }
   ],
   "source": [
    "nycDF.where(nycDF.Sex == 'F').groupBy(\"Leading Cause\").count().sort('count', ascending = False).show()"
   ]
  }
 ],
 "metadata": {
  "kernelspec": {
   "display_name": "Python 3.9.12 ('base')",
   "language": "python",
   "name": "python3"
  },
  "language_info": {
   "codemirror_mode": {
    "name": "ipython",
    "version": 3
   },
   "file_extension": ".py",
   "mimetype": "text/x-python",
   "name": "python",
   "nbconvert_exporter": "python",
   "pygments_lexer": "ipython3",
   "version": "3.9.12"
  },
  "orig_nbformat": 4,
  "vscode": {
   "interpreter": {
    "hash": "3f1fa92065e83bf8b3f9b5096216ce92755ea229f7fd6780b8b3e0f199343520"
   }
  }
 },
 "nbformat": 4,
 "nbformat_minor": 2
}
